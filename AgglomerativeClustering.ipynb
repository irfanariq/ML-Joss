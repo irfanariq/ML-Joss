{
 "cells": [
  {
   "cell_type": "code",
   "execution_count": 1,
   "metadata": {},
   "outputs": [
    {
     "name": "stderr",
     "output_type": "stream",
     "text": [
      "/usr/lib/python3.5/importlib/_bootstrap.py:222: RuntimeWarning: numpy.dtype size changed, may indicate binary incompatibility. Expected 96, got 88\n",
      "  return f(*args, **kwds)\n",
      "/usr/lib/python3.5/importlib/_bootstrap.py:222: RuntimeWarning: numpy.dtype size changed, may indicate binary incompatibility. Expected 96, got 88\n",
      "  return f(*args, **kwds)\n",
      "/usr/lib/python3.5/importlib/_bootstrap.py:222: RuntimeWarning: numpy.dtype size changed, may indicate binary incompatibility. Expected 96, got 88\n",
      "  return f(*args, **kwds)\n",
      "/usr/lib/python3.5/importlib/_bootstrap.py:222: RuntimeWarning: numpy.dtype size changed, may indicate binary incompatibility. Expected 96, got 88\n",
      "  return f(*args, **kwds)\n"
     ]
    }
   ],
   "source": [
    "from sklearn import datasets\n",
    "import math\n",
    "import numpy as np"
   ]
  },
  {
   "cell_type": "code",
   "execution_count": 2,
   "metadata": {},
   "outputs": [],
   "source": [
    "data = datasets.load_iris().data"
   ]
  },
  {
   "cell_type": "code",
   "execution_count": 3,
   "metadata": {},
   "outputs": [],
   "source": [
    "def euclidean_distance(data1, data2):\n",
    "    sum = 0\n",
    "    if (len(data1) == len(data2)):\n",
    "        for x1, x2 in zip(data1, data2):\n",
    "            sum += (x1 - x2)**2\n",
    "        dist = math.sqrt(sum)\n",
    "        return dist\n",
    "    else:\n",
    "        raise Exception('Length doesn\\'t match')\n",
    "        \n",
    "def manhattan_distance(data1, data2):\n",
    "    sum = 0\n",
    "    if (len(data1) == len(data2)):\n",
    "        for x1, x2 in zip(data1, data2):\n",
    "            sum += abs(x1 - x2)\n",
    "        return sum\n",
    "    else:\n",
    "        raise Exception('Length doesn\\'t match')\n",
    "        \n",
    "def get_distance(data1, data2, metrics):\n",
    "    if (metrics == 'euclidean'):\n",
    "        dist = euclidean_distance(data1, data2)\n",
    "    elif (metrics == 'manhattan'):\n",
    "        dist = manhattan_distance(data1, data2)\n",
    "    else:\n",
    "        raise Exception('Metrics not defined')\n",
    "    return dist"
   ]
  },
  {
   "cell_type": "code",
   "execution_count": 4,
   "metadata": {},
   "outputs": [],
   "source": [
    "def calculate_distance_matrix(data, metrics):\n",
    "    dist_matrix = []\n",
    "    for idx1, data1 in enumerate(data):\n",
    "        curr_dist_matrix = []\n",
    "        for idx2, data2 in enumerate(data):\n",
    "            if (idx1 > idx2):\n",
    "                curr_dist_matrix.append(dist_matrix[idx2][idx1])\n",
    "            else:\n",
    "                dist = get_distance(data1, data2, metrics)\n",
    "                curr_dist_matrix.append(dist)\n",
    "        dist_matrix.append(curr_dist_matrix)\n",
    "    return dist_matrix"
   ]
  },
  {
   "cell_type": "code",
   "execution_count": 5,
   "metadata": {},
   "outputs": [],
   "source": [
    "metrics_used = 'euclidean'\n",
    "data_used = data[:50]\n",
    "dist_matrix = calculate_distance_matrix(data_used, metrics_used)"
   ]
  },
  {
   "cell_type": "code",
   "execution_count": 6,
   "metadata": {},
   "outputs": [],
   "source": [
    "def complete_linkage(cluster1, cluster2, dist_matrix):\n",
    "    max_dist = 0\n",
    "    for v1 in cluster1:\n",
    "        for v2 in cluster2:\n",
    "            if (max_dist < dist_matrix[v1][v2]):\n",
    "                max_dist = dist_matrix[v1][v2]\n",
    "    return max_dist\n",
    "\n",
    "def single_linkage(cluster1, cluster2, dist_matrix):\n",
    "    min_dist = None\n",
    "    for v1 in cluster1:\n",
    "        for v2 in cluster2:\n",
    "            if (min_dist is None) or (min_dist < dist_matrix[v1][v2]):\n",
    "                min_dist = dist_matrix[v1][v2]\n",
    "    return min_dist\n",
    "\n",
    "def average_linkage(cluster1, cluster2, dist_matrix):\n",
    "    sum_dist = 0\n",
    "    count_dist = 0\n",
    "    for v1 in cluster1:\n",
    "        for v2 in cluster2:\n",
    "            sum_dist += dist_matrix[v1][v2]\n",
    "            count_dist += 1\n",
    "    return float(sum_dist)/float(count_dist)\n",
    "\n",
    "def group_average_linkage(cluster1, cluster2, data, distance):\n",
    "    data1 = [data[i] for i in cluster1]\n",
    "    data2 = [data[i] for i in cluster2]\n",
    "    \n",
    "    avg1 = np.mean(data1, axis = 0)\n",
    "    avg2 = np.mean(data2, axis = 0)\n",
    "    \n",
    "    return get_distance(avg1, avg2, distance)"
   ]
  },
  {
   "cell_type": "code",
   "execution_count": 22,
   "metadata": {},
   "outputs": [
    {
     "name": "stdout",
     "output_type": "stream",
     "text": [
      "[[41], [36, 20, 31, 43, 23, 26, 35, 4, 40, 0, 17, 27, 28, 49, 7, 39, 44, 5, 18, 16, 10, 48, 46, 19, 21], [14, 15, 32, 33], [22, 13, 42, 8, 38, 11, 24, 29, 30, 12, 1, 45, 25, 37, 9, 34, 6, 2, 3, 47]]\n"
     ]
    },
    {
     "data": {
      "text/plain": [
       "array([1, 3, 3, 3, 1, 1, 3, 1, 3, 3, 1, 3, 3, 3, 2, 2, 1, 1, 1, 1, 1, 1,\n",
       "       3, 1, 3, 3, 1, 1, 1, 3, 3, 1, 2, 2, 3, 1, 1, 3, 3, 1, 1, 0, 3, 1,\n",
       "       1, 3, 1, 3, 1, 1], dtype=int8)"
      ]
     },
     "execution_count": 22,
     "metadata": {},
     "output_type": "execute_result"
    }
   ],
   "source": [
    "clusters = [[i] for i, c in enumerate(data_used)]\n",
    "n_clusters = 4\n",
    "linkage = 'average'\n",
    "\n",
    "while(len(clusters) > n_clusters):\n",
    "    min_dist = None\n",
    "    merge_pair = (0, 0)\n",
    "    for idx1, c1 in enumerate(clusters):\n",
    "        for idx2, c2 in enumerate(clusters[(idx1 + 1) :]):\n",
    "            if (linkage == 'single'):\n",
    "                dist = single_linkage(c1, c2, dist_matrix)\n",
    "            elif (linkage == 'complete'):\n",
    "                dist = complete_linkage(c1, c2, dist_matrix)\n",
    "            elif (linkage == 'average'):\n",
    "                dist = average_linkage(c1, c2, dist_matrix)\n",
    "            elif (linkage == 'average_group'):\n",
    "                dist = group_average_linkage(c1, c2, data_used, metrics_used)\n",
    "            else:\n",
    "                raise Exception('Linkage not defined')\n",
    "            if (min_dist == None) or (dist < min_dist):\n",
    "                min_dist = dist\n",
    "                merge_pair = (idx1, idx1 + 1 + idx2)\n",
    "    \n",
    "    result_cluster = []\n",
    "    for idx, c in enumerate(clusters):\n",
    "        if idx not in merge_pair:\n",
    "            result_cluster.append(c)\n",
    "    \n",
    "    result_cluster.append(clusters[merge_pair[0]] + clusters[merge_pair[1]])\n",
    "    \n",
    "    clusters = result_cluster\n",
    "\n",
    "print(clusters)\n",
    "result_per_item = np.zeros(len(data_used), dtype= np.int8)\n",
    "for idx, clust in enumerate(clusters):\n",
    "    result_per_item[clust] = idx\n",
    "\n",
    "result_per_item"
   ]
  },
  {
   "cell_type": "code",
   "execution_count": 18,
   "metadata": {
    "scrolled": true
   },
   "outputs": [
    {
     "data": {
      "text/plain": [
       "array([1, 0, 0, 0, 1, 1, 0, 1, 0, 0, 1, 0, 0, 0, 2, 2, 1, 1, 1, 1, 1, 1,\n",
       "       0, 1, 0, 0, 1, 1, 1, 0, 0, 1, 2, 2, 0, 1, 1, 0, 0, 1, 1, 3, 0, 1,\n",
       "       1, 0, 1, 0, 1, 1])"
      ]
     },
     "execution_count": 18,
     "metadata": {},
     "output_type": "execute_result"
    }
   ],
   "source": [
    "from sklearn.cluster import AgglomerativeClustering\n",
    "\n",
    "cls = AgglomerativeClustering(n_clusters= 4, linkage='average', affinity='manhattan')\n",
    "cls.fit_predict(data[:50])"
   ]
  }
 ],
 "metadata": {
  "kernelspec": {
   "display_name": "Python 3",
   "language": "python",
   "name": "python3"
  },
  "language_info": {
   "codemirror_mode": {
    "name": "ipython",
    "version": 3
   },
   "file_extension": ".py",
   "mimetype": "text/x-python",
   "name": "python",
   "nbconvert_exporter": "python",
   "pygments_lexer": "ipython3",
   "version": "3.5.2"
  }
 },
 "nbformat": 4,
 "nbformat_minor": 2
}
