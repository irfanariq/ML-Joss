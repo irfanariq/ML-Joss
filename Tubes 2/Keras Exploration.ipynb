{
 "cells": [
  {
   "cell_type": "code",
   "execution_count": 1,
   "metadata": {},
   "outputs": [
    {
     "name": "stderr",
     "output_type": "stream",
     "text": [
      "/usr/lib/python3.5/importlib/_bootstrap.py:222: RuntimeWarning: numpy.dtype size changed, may indicate binary incompatibility. Expected 96, got 88\n",
      "  return f(*args, **kwds)\n",
      "Using TensorFlow backend.\n",
      "/usr/lib/python3.5/importlib/_bootstrap.py:222: RuntimeWarning: numpy.dtype size changed, may indicate binary incompatibility. Expected 96, got 88\n",
      "  return f(*args, **kwds)\n",
      "/usr/lib/python3.5/importlib/_bootstrap.py:222: RuntimeWarning: numpy.dtype size changed, may indicate binary incompatibility. Expected 96, got 88\n",
      "  return f(*args, **kwds)\n",
      "/usr/lib/python3.5/importlib/_bootstrap.py:222: RuntimeWarning: numpy.dtype size changed, may indicate binary incompatibility. Expected 96, got 88\n",
      "  return f(*args, **kwds)\n"
     ]
    }
   ],
   "source": [
    "from keras.models import Sequential\n",
    "from keras.layers import Dense"
   ]
  },
  {
   "cell_type": "code",
   "execution_count": 2,
   "metadata": {},
   "outputs": [
    {
     "name": "stderr",
     "output_type": "stream",
     "text": [
      "/usr/lib/python3.5/importlib/_bootstrap.py:222: RuntimeWarning: numpy.dtype size changed, may indicate binary incompatibility. Expected 96, got 88\n",
      "  return f(*args, **kwds)\n",
      "/usr/lib/python3.5/importlib/_bootstrap.py:222: RuntimeWarning: numpy.dtype size changed, may indicate binary incompatibility. Expected 96, got 88\n",
      "  return f(*args, **kwds)\n"
     ]
    }
   ],
   "source": [
    "from sklearn import datasets\n",
    "\n",
    "data = datasets.load_iris()\n",
    "train_data = data.data[: int(0.9 * len(data.data))]\n",
    "train_label = [0 if i < 1 else 1 for i in data.target[: int(0.9 * len(data.data))]]\n",
    "\n",
    "test_data = data.data[int(0.9 * len(data.data)) : ]\n",
    "test_label = [0 if i < 1 else 1 for i in data.target[int(0.9 * len(data.data)) :]]"
   ]
  },
  {
   "cell_type": "code",
   "execution_count": 19,
   "metadata": {},
   "outputs": [],
   "source": [
    "dense_size = [10, 40, 20, 10, 1]\n",
    "\n",
    "model = Sequential()\n",
    "for i, size in enumerate(dense_size):\n",
    "    if (i == 0):\n",
    "        model.add(Dense(size, input_dim= train_data.shape[1], activation= 'relu'))\n",
    "    elif (i != len(dense_size) -1 ):\n",
    "        model.add(Dense(size, activation= 'relu', kernel_initializer= 'glorot_uniform', bias_initializer= 'glorot_uniform'))\n",
    "    else:\n",
    "        model.add(Dense(size, activation= 'sigmoid', kernel_initializer= 'glorot_uniform', bias_initializer= 'glorot_uniform'))"
   ]
  },
  {
   "cell_type": "code",
   "execution_count": 21,
   "metadata": {},
   "outputs": [
    {
     "name": "stdout",
     "output_type": "stream",
     "text": [
      "_________________________________________________________________\n",
      "Layer (type)                 Output Shape              Param #   \n",
      "=================================================================\n",
      "dense_16 (Dense)             (None, 10)                50        \n",
      "_________________________________________________________________\n",
      "dense_17 (Dense)             (None, 40)                440       \n",
      "_________________________________________________________________\n",
      "dense_18 (Dense)             (None, 20)                820       \n",
      "_________________________________________________________________\n",
      "dense_19 (Dense)             (None, 10)                210       \n",
      "_________________________________________________________________\n",
      "dense_20 (Dense)             (None, 1)                 11        \n",
      "=================================================================\n",
      "Total params: 1,531\n",
      "Trainable params: 1,531\n",
      "Non-trainable params: 0\n",
      "_________________________________________________________________\n",
      "Epoch 1/10\n",
      "135/135 [==============================] - 1s 5ms/step - loss: 6.7450e-04 - acc: 1.0000\n",
      "Epoch 2/10\n",
      "135/135 [==============================] - 0s 132us/step - loss: 3.9298e-04 - acc: 1.0000\n",
      "Epoch 3/10\n",
      "135/135 [==============================] - 0s 186us/step - loss: 2.4172e-04 - acc: 1.0000\n",
      "Epoch 4/10\n",
      "135/135 [==============================] - 0s 149us/step - loss: 1.5342e-04 - acc: 1.0000\n",
      "Epoch 5/10\n",
      "135/135 [==============================] - 0s 151us/step - loss: 1.0369e-04 - acc: 1.0000\n",
      "Epoch 6/10\n",
      "135/135 [==============================] - 0s 184us/step - loss: 7.2056e-05 - acc: 1.0000\n",
      "Epoch 7/10\n",
      "135/135 [==============================] - 0s 160us/step - loss: 5.5360e-05 - acc: 1.0000\n",
      "Epoch 8/10\n",
      "135/135 [==============================] - 0s 149us/step - loss: 4.3178e-05 - acc: 1.0000\n",
      "Epoch 9/10\n",
      "135/135 [==============================] - 0s 186us/step - loss: 3.5463e-05 - acc: 1.0000\n",
      "Epoch 10/10\n",
      "135/135 [==============================] - 0s 166us/step - loss: 2.9825e-05 - acc: 1.0000\n"
     ]
    },
    {
     "data": {
      "text/plain": [
       "<keras.callbacks.History at 0x7f8800b32cf8>"
      ]
     },
     "execution_count": 21,
     "metadata": {},
     "output_type": "execute_result"
    }
   ],
   "source": [
    "model.compile(loss='binary_crossentropy',\n",
    "              optimizer='adam',\n",
    "              metrics=['accuracy'])\n",
    "model.summary()\n",
    "model.fit(train_data, train_label, epochs= 10, batch_size= 32)"
   ]
  },
  {
   "cell_type": "code",
   "execution_count": 22,
   "metadata": {},
   "outputs": [
    {
     "name": "stdout",
     "output_type": "stream",
     "text": [
      "15/15 [==============================] - 0s 11ms/step\n",
      "\n",
      "acc: 100.00%\n"
     ]
    }
   ],
   "source": [
    "scores = model.evaluate(test_data, test_label)\n",
    "print(\"\\n%s: %.2f%%\" % (model.metrics_names[1], scores[1]*100))"
   ]
  },
  {
   "cell_type": "code",
   "execution_count": 23,
   "metadata": {},
   "outputs": [
    {
     "data": {
      "text/plain": [
       "array([[0.9999995 ],\n",
       "       [0.99999547],\n",
       "       [0.99999535],\n",
       "       [0.99998534],\n",
       "       [0.99999714],\n",
       "       [0.99999785],\n",
       "       [0.9999962 ],\n",
       "       [0.99999285],\n",
       "       [0.99999833],\n",
       "       [0.9999976 ],\n",
       "       [0.99999654],\n",
       "       [0.99999595],\n",
       "       [0.9999951 ],\n",
       "       [0.9999931 ],\n",
       "       [0.9999894 ]], dtype=float32)"
      ]
     },
     "execution_count": 23,
     "metadata": {},
     "output_type": "execute_result"
    }
   ],
   "source": [
    "model.predict(test_data)"
   ]
  }
 ],
 "metadata": {
  "kernelspec": {
   "display_name": "Python 3",
   "language": "python",
   "name": "python3"
  },
  "language_info": {
   "codemirror_mode": {
    "name": "ipython",
    "version": 3
   },
   "file_extension": ".py",
   "mimetype": "text/x-python",
   "name": "python",
   "nbconvert_exporter": "python",
   "pygments_lexer": "ipython3",
   "version": "3.5.2"
  }
 },
 "nbformat": 4,
 "nbformat_minor": 2
}
